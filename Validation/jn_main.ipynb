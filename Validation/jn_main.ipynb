{
 "cells": [
  {
   "cell_type": "markdown",
   "metadata": {},
   "source": [
    "# Setup"
   ]
  },
  {
   "cell_type": "code",
   "execution_count": 2,
   "metadata": {},
   "outputs": [
    {
     "data": {
      "text/plain": [
       "<Figure size 432x288 with 0 Axes>"
      ]
     },
     "metadata": {},
     "output_type": "display_data"
    }
   ],
   "source": [
    "# main.py\n",
    "%matplotlib inline\n",
    "%reload_ext autoreload\n",
    "%autoreload 2\n",
    "\n",
    "import matplotlib.pyplot as plt\n",
    "import numpy as np\n",
    "import globals as  gl\n",
    "import factory\n",
    "import pandas as pd\n",
    "\n",
    "'''Validating data and create plots'''\n",
    "\n",
    "gl.init()\n",
    "# factory.Filter.remove_movement_tutorials()\n",
    "# factory.Filter.remove_shield_tutorial()\n",
    "\n",
    "dataframes = gl.dataframes\n",
    "conc_dataframes = gl.conc_dataframes\n",
    "conc_dataframes.reset_index(inplace=True)\n",
    "\n",
    "plt.tight_layout()"
   ]
  },
  {
   "cell_type": "markdown",
   "metadata": {
    "heading_collapsed": true
   },
   "source": [
    "# Barplot: Playing time per user and round"
   ]
  },
  {
   "cell_type": "code",
   "execution_count": 3,
   "metadata": {
    "hidden": true
   },
   "outputs": [
    {
     "data": {
      "text/plain": [
       "<matplotlib.axes._subplots.AxesSubplot at 0x10b8bc588>"
      ]
     },
     "execution_count": 3,
     "metadata": {},
     "output_type": "execute_result"
    },
    {
     "data": {
      "image/png": "[encoded data removed]",
      "text/plain": [
       "<Figure size 432x288 with 1 Axes>"
      ]
     },
     "metadata": {},
     "output_type": "display_data"
    }
   ],
   "source": [
    "'''Plot: Playing time per user \n",
    "'''\n",
    "plt.ylabel('Playing time [s]')\n",
    "plt.title('Playing time per user per round')\n",
    "\n",
    "time_df = conc_dataframes.groupby(['userID', 'round'])['Time'].max()\n",
    "time_df.plot.bar(color=factory.get_colors())\n",
    "#plt.savefig(gl.svn_base_path + '/Plots/playing_time_per_user.pdf')"
   ]
  },
  {
   "cell_type": "markdown",
   "metadata": {
    "hidden": true
   },
   "source": [
    "- Lengths are more or less the same, with 613s being the shortest, 766s being the longest"
   ]
  },
  {
   "cell_type": "markdown",
   "metadata": {
    "heading_collapsed": true
   },
   "source": [
    "# Plot: Average HR over all games"
   ]
  },
  {
   "cell_type": "code",
   "execution_count": null,
   "metadata": {
    "hidden": true
   },
   "outputs": [],
   "source": [
    "from matplotlib.dates import DateFormatter, YearLocator, MonthLocator\n",
    "\n",
    "'''Plot: Average Heartrate \n",
    "'''\n",
    "\n",
    "fig, ax = plt.subplots()\n",
    "plt.ylabel('Heartrate [bpm]')\n",
    "plt.xlabel('Playing time [s]')\n",
    "plt.title('Average Heartrate across all users')\n",
    "\n",
    "resolution = 10 # resample every x seconds -> the bigger, the smoother\n",
    "\n",
    "time_df = conc_dataframes.groupby(['userID', 'round'])['Time'].max()\n",
    "min_time = time_df.min()\n",
    "conc_with_hr = gl.conc_dataframes_with_hr[gl.conc_dataframes_with_hr['Time']<min_time] # Cut all dataframes to the same minimal length\n",
    "df_copy = conc_with_hr.copy() # to prevent SettingWithCopyWarning\n",
    "avg_hr_df = df_copy.groupby(['timedelta'])[['Time','Heartrate']].mean() # Take mean over all logfiles\n",
    "avg_hr_df_resampled = avg_hr_df.resample(str(resolution)+'S').mean() # Resample series\n",
    "\n",
    "plt.plot(avg_hr_df_resampled['Time'], avg_hr_df_resampled['Heartrate'])\n",
    "#plt.savefig(gl.svn_base_path + '/Plots/average_heartrate.pdf')"
   ]
  },
  {
   "cell_type": "markdown",
   "metadata": {},
   "source": [
    "# Boxplot: Mean and std HR "
   ]
  },
  {
   "cell_type": "code",
   "execution_count": null,
   "metadata": {},
   "outputs": [],
   "source": [
    "'''Plot: Mean and std bpm per user in a box-chart\n",
    "'''\n",
    "\n",
    "df2 = conc_dataframes.pivot(columns=conc_dataframes.columns[1], index=conc_dataframes.index)\n",
    "df2.columns = df2.columns.droplevel()\n",
    "conc_dataframes[['Heartrate','userID']].boxplot(by='userID', grid=False, sym='r+')\n",
    "plt.ylabel('Heartrate [bpm]')\n",
    "plt.title('')\n",
    "plt.savefig(gl.svn_base_path + '/Plots/mean_heartrate_boxplot.pdf')"
   ]
  },
  {
   "cell_type": "markdown",
   "metadata": {},
   "source": []
  },
  {
   "cell_type": "markdown",
   "metadata": {},
   "source": [
    "# Barplot: Heartrate Change"
   ]
  },
  {
   "cell_type": "code",
   "execution_count": null,
   "metadata": {},
   "outputs": [],
   "source": [
    "''' Plot Heartrate change\n",
    "'''\n",
    "bpm_changes_max = []  # Stores max. absolute change in HR per logfile \n",
    "bpm_changes_rel = [] # Stores max. percentage change in HR per logfile \n",
    "\n",
    "\n",
    "X = []\n",
    "for idx, df in enumerate(dataframes):\n",
    "    if not (df['Heartrate'] == -1).all():\n",
    "        X.append(idx)\n",
    "        #new = df.set_index('timedelta', inplace=False)\n",
    "        resampled = factory.resample_dataframe(df, 1)\n",
    "        percentage_change = np.diff(resampled['Heartrate']) / resampled['Heartrate'][:-1] * 100.\n",
    "        x = percentage_change[np.logical_not(np.isnan(percentage_change))]\n",
    "        bpm_changes_max.append(x.max())\n",
    "        bpm_changes_rel.append(x)\n",
    "#plt.ylabel('#Times HR changed')\n",
    "#plt.xlabel('Change in Heartrate [%]')\n",
    "#for idx, l in enumerate(bpm_changes_rel):\n",
    "    #plt.figure()\n",
    "    #print(l)\n",
    "    #plt.title('Heartrate change for plot' + str(idx))\n",
    "    #plt.hist(l, color=gl.green_color)\n",
    "    #plt.savefig(gl.svn_base_path + '/Plots/Heartrate Histograms/heartrate_change_percentage' + str(idx) + '.pdf')\n",
    "\n",
    "\n",
    "plt.figure()\n",
    "plt.title('Maximal heartrate change')\n",
    "plt.ylabel('Max heartrate change [%]')\n",
    "plt.xlabel('Logfile')\n",
    "plt.bar([x for x in X], bpm_changes_max, color=gl.blue_color, width=0.25)\n",
    "#plt.savefig(gl.svn_base_path + '/Plots/heartrate_change_abs.pdf')"
   ]
  },
  {
   "cell_type": "markdown",
   "metadata": {},
   "source": [
    "- Most of the logfiles don't have unusual behavior uf the HR, menaing a maximal change of <20% between consecutive measurements "
   ]
  },
  {
   "cell_type": "markdown",
   "metadata": {
    "heading_collapsed": true
   },
   "source": [
    "# Plot: Heartrate correlated with Difficulty"
   ]
  },
  {
   "cell_type": "code",
   "execution_count": null,
   "metadata": {
    "hidden": true
   },
   "outputs": [],
   "source": [
    "factory.plot_difficulty_corr_with('Heartrate')"
   ]
  },
  {
   "cell_type": "markdown",
   "metadata": {
    "hidden": true
   },
   "source": [
    "- Not a lot of difficulty changes unfortunately\n",
    "- A small correlation"
   ]
  },
  {
   "cell_type": "markdown",
   "metadata": {
    "heading_collapsed": true
   },
   "source": [
    "# Plot: Points correlated with Difficulty"
   ]
  },
  {
   "cell_type": "code",
   "execution_count": null,
   "metadata": {
    "hidden": true
   },
   "outputs": [],
   "source": [
    "factory.plot_difficulty_corr_with('Points')"
   ]
  },
  {
   "cell_type": "markdown",
   "metadata": {
    "heading_collapsed": true
   },
   "source": [
    "# Scatter plot: Difficulty vs. size of obstacles "
   ]
  },
  {
   "cell_type": "code",
   "execution_count": null,
   "metadata": {
    "hidden": true,
    "scrolled": true
   },
   "outputs": [],
   "source": [
    "plt.figure()\n",
    "values = factory.get_number_of_obstacles_per_difficulty()\n",
    "print(values)\n",
    "for i in [0,1,2]:\n",
    "    li = values[5*i:5*i+5]\n",
    "    maximum = max(li) if (max(li) >0) else 1\n",
    "    values[5*i:5*i+5] = [x / maximum * 2000 for x in li] \n",
    "plt.title('Difficulty vs. size of obstacles')\n",
    "plt.ylabel('#occurences for given size')\n",
    "plt.xlabel('Difficulty')\n",
    "x = [1,1,1,1,1,2,2,2,2,2,3,3,3,3,3]\n",
    "y = [0,1,2,3,4,0,1,2,3,4,0,1,2,3,4]\n",
    "plt.scatter(x, y, s=values)\n",
    "plt.savefig(gl.svn_base_path + '/Plots/corr_difficulty_numObstacles.pdf')"
   ]
  },
  {
   "cell_type": "markdown",
   "metadata": {
    "hidden": true
   },
   "source": [
    "Difficulty level corresponds mostly to bigger obstacles"
   ]
  },
  {
   "cell_type": "markdown",
   "metadata": {
    "heading_collapsed": true
   },
   "source": [
    "# Obstacle Information"
   ]
  },
  {
   "cell_type": "code",
   "execution_count": null,
   "metadata": {
    "hidden": true
   },
   "outputs": [],
   "source": [
    "# Idea: Get % of crashes per difficulty level\n",
    "df = conc_dataframes\n",
    "\n",
    "grouped2 = df.groupby(['physDifficulty', 'Logtype']).size()\n",
    "print(grouped2)\n",
    "\n",
    "print('\\nOn physDifficulty=HIGH, there were ' + str(grouped2[2]) + \\\n",
    "      ' obstacles, out of which the user crashed ' + str(grouped2[1]) + \\\n",
    "      ', i.e. ' + str(round(grouped2[1]/grouped2[2],2)*100) + '%.' )\n",
    "\n",
    "print('On physDifficulty=MEDIUM, there were ' + str(grouped2[6]) + \\\n",
    "      ' obstacles, out of which the user crashed ' + str(grouped2[5]) + \\\n",
    "      ', i.e. ' + str(round(grouped2[5]/grouped2[6],2)*100) + '%.' )\n"
   ]
  },
  {
   "cell_type": "markdown",
   "metadata": {
    "heading_collapsed": true
   },
   "source": [
    "#  Scatter plot: Difficulty vs HR"
   ]
  },
  {
   "cell_type": "code",
   "execution_count": null,
   "metadata": {
    "hidden": true
   },
   "outputs": [],
   "source": [
    "df = gl.conc_dataframes_with_hr\n",
    "df_num = factory.transformToNumbers(df)\n",
    "df_num.set_index('timedelta', inplace=True)\n",
    "resolution=5\n",
    "# resample and take mean over difficulty. This means that a point can now have a difficulty \"between\"\n",
    "# Low/Medium/High, depending on how many seconds out of the resolution seconds it was on which level.\n",
    "avg_hr_df_resampled = df_num.resample(str(resolution)+'S').mean() \n",
    "\n",
    "plt.title('Difficulty vs. HR')\n",
    "plt.ylabel('HR')\n",
    "plt.xlabel('Difficulty')\n",
    "x = avg_hr_df_resampled['physDifficulty']\n",
    "y = avg_hr_df_resampled['Heartrate']\n",
    "plt.scatter(x, y, s=30)\n",
    "#plt.savefig(gl.svn_base_path + '/Plots/corr_difficulty_HR.pdf')"
   ]
  },
  {
   "cell_type": "markdown",
   "metadata": {
    "hidden": true
   },
   "source": [
    "- Difficulty indeed has an influence on Heartrate\n"
   ]
  },
  {
   "cell_type": "markdown",
   "metadata": {
    "heading_collapsed": true
   },
   "source": [
    "# Barplot:  Crashes vs size of obstacle"
   ]
  },
  {
   "cell_type": "code",
   "execution_count": null,
   "metadata": {
    "hidden": true
   },
   "outputs": [],
   "source": [
    "conc_num = factory.transformToNumbers(conc_dataframes) # Transform Difficulties into integers\n",
    "new = conc_num['obstacle'].apply(lambda x: 0 if x=='none' else x.count(\",\") + 1 ) # count number of obstacle parts per obstacle\n",
    "conc_num = conc_num.assign(numObstacles=new)\n",
    "# [a,b,c,d,e], e..g  #obstacles that had size 0,1,2,3,4 respectively\n",
    "num_obstacles_per_size = conc_num.groupby('numObstacles').size().tolist()\n",
    "\n",
    "num_obstacles_per_size.insert(2,0) # No obstacles of size 2...\n",
    "num_crashes_per_size = [0,0,0,0,0]\n",
    "\n",
    "#For each crash, find corresponding row where we can find the size of the obstacle he crashed into.\n",
    "for index, row in conc_num.iterrows():\n",
    "    if (row['Logtype']=='EVENT_CRASH'):\n",
    "        next_obstacle_idx = factory.get_next_obstacle_idx(index, conc_num)\n",
    "        sizeOfObstacle = conc_num.iloc[next_obstacle_idx]['numObstacles']\n",
    "        num_crashes_per_size[sizeOfObstacle] +=1       \n",
    "percentage_of_crashes = [0 if (x==0 | y==0) else x/y for x, y in zip(num_crashes_per_size, num_obstacles_per_size)]     \n",
    "\n",
    "x = [0,1,2,3,4]\n",
    "plt.title('Crashes vs. size of obstacle')\n",
    "plt.ylabel('Crashes [%]')\n",
    "plt.xlabel('Size of obstacle')\n",
    "plt.bar(x, percentage_of_crashes)\n",
    "\n",
    "#plt.savefig(gl.svn_base_path + '/Plots/crashes_per_size_of_obstacles.pdf')"
   ]
  },
  {
   "cell_type": "markdown",
   "metadata": {
    "hidden": true
   },
   "source": [
    "- Bigger obstacle doesn't really mean that the chance for the user to crash is bigger!"
   ]
  },
  {
   "cell_type": "markdown",
   "metadata": {
    "heading_collapsed": true
   },
   "source": [
    "# %Crashes in the last 30 seconds"
   ]
  },
  {
   "cell_type": "code",
   "execution_count": null,
   "metadata": {
    "hidden": true
   },
   "outputs": [],
   "source": [
    "window = 80 #Over how many seconds should we caluculate %crashes?\n",
    "resolution = 15 #Resampling interval\n",
    "\n",
    "def df_from_to(_from, _to):\n",
    "    mask = (_from<df['Time']) & (df['Time']<=_to)\n",
    "    return df[mask]\n",
    "    \n",
    "def computeCrashes(row):\n",
    "    last_x_seconds_df = df_from_to(max(0,row['Time']-window), row['Time'])\n",
    "    num_obstacles = len(last_x_seconds_df[last_x_seconds_df['Logtype']=='EVENT_OBSTACLE'].index)\n",
    "    num_crashes = len(last_x_seconds_df[last_x_seconds_df['Logtype']=='EVENT_CRASH'].index)\n",
    "    return (num_crashes/num_obstacles *100 if num_crashes<num_obstacles else 100) if num_obstacles!=0 else 0\n",
    "\n",
    "\n",
    "for idx, df in enumerate(gl.dataframes):\n",
    "        if not (df['Heartrate'] == -1).all():\n",
    "                # Plot Heartrate\n",
    "                fig, ax1 = plt.subplots()\n",
    "                fig.suptitle('% of crashes in the last x seconds')\n",
    "                df_num_resampled = factory.resample_dataframe(df, resolution)\n",
    "\n",
    "                ax1.plot(df_num_resampled['Time'], df_num_resampled['Heartrate'], gl.blue_color)\n",
    "                ax1.set_xlabel('Playing time')\n",
    "                ax1.set_ylabel('Heartrate', color=gl.blue_color)\n",
    "                ax1.tick_params('y', colors=gl.blue_color)\n",
    "\n",
    "                #Plot %crashes\n",
    "                ax2 = ax1.twinx()\n",
    "                df['%crashes'] = df[['Time', 'Logtype']].apply(computeCrashes,axis=1)\n",
    "                resampled = factory.resample_dataframe(df, resolution)\n",
    "                ax2.plot(resampled['Time'], resampled['%crashes'], gl.green_color)\n",
    "                ax2.set_ylabel('Crashes [%]', color=gl.green_color)\n",
    "                ax2.set_xlabel('Time')\n",
    "                ax2.tick_params('y', colors=gl.green_color)\n",
    "\n",
    "                plt.savefig(gl.svn_base_path + '/Plots/%Crashes/%crashes_heartrate_' +gl.rel_files[idx] + '.pdf')\n"
   ]
  },
  {
   "cell_type": "markdown",
   "metadata": {},
   "source": [
    "# Crashes per obstacle arrangement"
   ]
  },
  {
   "cell_type": "code",
   "execution_count": null,
   "metadata": {},
   "outputs": [],
   "source": [
    "import collections\n",
    "\n",
    "conc_num = factory.transformToNumbers(conc_dataframes) # Transform Difficulties into integers\n",
    "\n",
    "#For each obstacle-arrangment, make a dictionary-entry with a list [#occurences, #crashes]\n",
    "obst_dict = {}\n",
    "#For each crash, find corresponding row where we can find the obstacle he crashed into.\n",
    "for index, row in conc_num.iterrows():\n",
    "    if (row['Logtype']=='EVENT_CRASH'):\n",
    "        next_obstacle_idx = factory.get_next_obstacle_idx(index, conc_num)\n",
    "        obstacle = conc_num.iloc[next_obstacle_idx]['obstacle']\n",
    "        #print(conc_num.iloc[next_obstacle_idx]['timedelta'] - row['timedelta'])\n",
    "        if obstacle in obst_dict:\n",
    "            obst_dict[obstacle] = [obst_dict[obstacle][0] +1, obst_dict[obstacle][1]+1]\n",
    "        else:    \n",
    "            obst_dict[obstacle] = [1,1]\n",
    "    if (row['Logtype']=='EVENT_OBSTACLE'):\n",
    "        obstacle = row['obstacle']\n",
    "        if obstacle in obst_dict:\n",
    "            obst_dict[obstacle] = [obst_dict[obstacle][0] +1, obst_dict[obstacle][1]]\n",
    "        else:    \n",
    "            obst_dict[obstacle] = [1,0]\n",
    "\n",
    "obst_dict = collections.OrderedDict(sorted(obst_dict.items(),key=lambda s: len(s[0])))\n",
    "index = obst_dict.keys()\n",
    "columns=[\"#Occurences\", \"#Crashes\", \"Crashes in %\"]\n",
    "data = np.zeros(shape=(len(index),3))\n",
    "count=0\n",
    "for key, value in obst_dict.items():\n",
    "    data[count][0] = value[0] # #Occurences\n",
    "    data[count][1] = value[1] # #Crashes\n",
    "    data[count][2] = value[1]/value[0] *100\n",
    "    count+=1\n",
    "\n",
    "df = pd.DataFrame(data, index=index, columns=columns)\n",
    "plt.xticks(rotation=90)\n",
    "plt.title('Crashes vs. size of obstacle')\n",
    "plt.ylabel('Crashes [%]')\n",
    "plt.xlabel('Size of obstacle')\n",
    "plt.bar(df.index, df['Crashes in %'])\n",
    "\n",
    "\n",
    "plt.savefig(gl.svn_base_path + '/Plots/crashes_per_obstacle_arrangement.pdf',bbox_inches=\"tight\")"
   ]
  }
 ],
 "metadata": {
  "kernelspec": {
   "display_name": "Python 3",
   "language": "python",
   "name": "python3"
  },
  "language_info": {
   "codemirror_mode": {
    "name": "ipython",
    "version": 3
   },
   "file_extension": ".py",
   "mimetype": "text/x-python",
   "name": "python",
   "nbconvert_exporter": "python",
   "pygments_lexer": "ipython3",
   "version": "3.6.4"
  },
  "varInspector": {
   "cols": {
    "lenName": 16,
    "lenType": 16,
    "lenVar": 40
   },
   "kernels_config": {
    "python": {
     "delete_cmd_postfix": "",
     "delete_cmd_prefix": "del ",
     "library": "var_list.py",
     "varRefreshCmd": "print(var_dic_list())"
    },
    "r": {
     "delete_cmd_postfix": ") ",
     "delete_cmd_prefix": "rm(",
     "library": "var_list.r",
     "varRefreshCmd": "cat(var_dic_list()) "
    }
   },
   "position": {
    "height": "1039px",
    "left": "1865px",
    "right": "15px",
    "top": "112px",
    "width": "680px"
   },
   "types_to_exclude": [
    "module",
    "function",
    "builtin_function_or_method",
    "instance",
    "_Feature"
   ],
   "window_display": false
  }
 },
 "nbformat": 4,
 "nbformat_minor": 2
}
